{
 "cells": [
  {
   "cell_type": "code",
   "execution_count": 1,
   "metadata": {},
   "outputs": [
    {
     "name": "stderr",
     "output_type": "stream",
     "text": [
      "ERROR: Could not find a version that satisfies the requirement chromium-browser (from versions: none)\n",
      "ERROR: No matching distribution found for chromium-browser\n",
      "\n",
      "[notice] A new release of pip is available: 23.3.1 -> 24.1.1\n",
      "[notice] To update, run: C:\\Users\\alexf\\AppData\\Local\\Microsoft\\WindowsApps\\PythonSoftwareFoundation.Python.3.10_qbz5n2kfra8p0\\python.exe -m pip install --upgrade pip\n",
      "ERROR: Could not find a version that satisfies the requirement chromium-chromedriver (from versions: none)\n",
      "ERROR: No matching distribution found for chromium-chromedriver\n",
      "\n",
      "[notice] A new release of pip is available: 23.3.1 -> 24.1.1\n",
      "[notice] To update, run: C:\\Users\\alexf\\AppData\\Local\\Microsoft\\WindowsApps\\PythonSoftwareFoundation.Python.3.10_qbz5n2kfra8p0\\python.exe -m pip install --upgrade pip\n"
     ]
    },
    {
     "name": "stdout",
     "output_type": "stream",
     "text": [
      "Requirement already satisfied: selenium in c:\\users\\alexf\\appdata\\local\\packages\\pythonsoftwarefoundation.python.3.10_qbz5n2kfra8p0\\localcache\\local-packages\\python310\\site-packages (4.22.0)\n",
      "Requirement already satisfied: urllib3<3,>=1.26 in c:\\users\\alexf\\appdata\\local\\packages\\pythonsoftwarefoundation.python.3.10_qbz5n2kfra8p0\\localcache\\local-packages\\python310\\site-packages (from urllib3[socks]<3,>=1.26->selenium) (1.26.9)\n",
      "Requirement already satisfied: trio~=0.17 in c:\\users\\alexf\\appdata\\local\\packages\\pythonsoftwarefoundation.python.3.10_qbz5n2kfra8p0\\localcache\\local-packages\\python310\\site-packages (from selenium) (0.20.0)\n",
      "Requirement already satisfied: trio-websocket~=0.9 in c:\\users\\alexf\\appdata\\local\\packages\\pythonsoftwarefoundation.python.3.10_qbz5n2kfra8p0\\localcache\\local-packages\\python310\\site-packages (from selenium) (0.9.2)\n",
      "Requirement already satisfied: certifi>=2021.10.8 in c:\\users\\alexf\\appdata\\local\\packages\\pythonsoftwarefoundation.python.3.10_qbz5n2kfra8p0\\localcache\\local-packages\\python310\\site-packages (from selenium) (2021.10.8)\n",
      "Requirement already satisfied: typing_extensions>=4.9.0 in c:\\users\\alexf\\appdata\\local\\packages\\pythonsoftwarefoundation.python.3.10_qbz5n2kfra8p0\\localcache\\local-packages\\python310\\site-packages (from selenium) (4.12.0)\n",
      "Requirement already satisfied: websocket-client>=1.8.0 in c:\\users\\alexf\\appdata\\local\\packages\\pythonsoftwarefoundation.python.3.10_qbz5n2kfra8p0\\localcache\\local-packages\\python310\\site-packages (from selenium) (1.8.0)\n",
      "Requirement already satisfied: attrs>=19.2.0 in c:\\users\\alexf\\appdata\\local\\packages\\pythonsoftwarefoundation.python.3.10_qbz5n2kfra8p0\\localcache\\local-packages\\python310\\site-packages (from trio~=0.17->selenium) (21.4.0)\n",
      "Requirement already satisfied: sortedcontainers in c:\\users\\alexf\\appdata\\local\\packages\\pythonsoftwarefoundation.python.3.10_qbz5n2kfra8p0\\localcache\\local-packages\\python310\\site-packages (from trio~=0.17->selenium) (2.4.0)\n",
      "Requirement already satisfied: async-generator>=1.9 in c:\\users\\alexf\\appdata\\local\\packages\\pythonsoftwarefoundation.python.3.10_qbz5n2kfra8p0\\localcache\\local-packages\\python310\\site-packages (from trio~=0.17->selenium) (1.10)\n",
      "Requirement already satisfied: idna in c:\\users\\alexf\\appdata\\local\\packages\\pythonsoftwarefoundation.python.3.10_qbz5n2kfra8p0\\localcache\\local-packages\\python310\\site-packages (from trio~=0.17->selenium) (3.3)\n",
      "Requirement already satisfied: outcome in c:\\users\\alexf\\appdata\\local\\packages\\pythonsoftwarefoundation.python.3.10_qbz5n2kfra8p0\\localcache\\local-packages\\python310\\site-packages (from trio~=0.17->selenium) (1.1.0)\n",
      "Requirement already satisfied: sniffio in c:\\users\\alexf\\appdata\\local\\packages\\pythonsoftwarefoundation.python.3.10_qbz5n2kfra8p0\\localcache\\local-packages\\python310\\site-packages (from trio~=0.17->selenium) (1.2.0)\n",
      "Requirement already satisfied: cffi>=1.14 in c:\\users\\alexf\\appdata\\local\\packages\\pythonsoftwarefoundation.python.3.10_qbz5n2kfra8p0\\localcache\\local-packages\\python310\\site-packages (from trio~=0.17->selenium) (1.15.0)\n",
      "Requirement already satisfied: wsproto>=0.14 in c:\\users\\alexf\\appdata\\local\\packages\\pythonsoftwarefoundation.python.3.10_qbz5n2kfra8p0\\localcache\\local-packages\\python310\\site-packages (from trio-websocket~=0.9->selenium) (1.1.0)\n",
      "Requirement already satisfied: PySocks!=1.5.7,<2.0,>=1.5.6 in c:\\users\\alexf\\appdata\\local\\packages\\pythonsoftwarefoundation.python.3.10_qbz5n2kfra8p0\\localcache\\local-packages\\python310\\site-packages (from urllib3[socks]<3,>=1.26->selenium) (1.7.1)\n",
      "Requirement already satisfied: pycparser in c:\\users\\alexf\\appdata\\local\\packages\\pythonsoftwarefoundation.python.3.10_qbz5n2kfra8p0\\localcache\\local-packages\\python310\\site-packages (from cffi>=1.14->trio~=0.17->selenium) (2.21)\n",
      "Requirement already satisfied: h11<1,>=0.9.0 in c:\\users\\alexf\\appdata\\local\\packages\\pythonsoftwarefoundation.python.3.10_qbz5n2kfra8p0\\localcache\\local-packages\\python310\\site-packages (from wsproto>=0.14->trio-websocket~=0.9->selenium) (0.13.0)\n"
     ]
    },
    {
     "name": "stderr",
     "output_type": "stream",
     "text": [
      "\n",
      "[notice] A new release of pip is available: 23.3.1 -> 24.1.1\n",
      "[notice] To update, run: C:\\Users\\alexf\\AppData\\Local\\Microsoft\\WindowsApps\\PythonSoftwareFoundation.Python.3.10_qbz5n2kfra8p0\\python.exe -m pip install --upgrade pip\n"
     ]
    },
    {
     "name": "stdout",
     "output_type": "stream",
     "text": [
      "Requirement already satisfied: webdriver-manager in c:\\users\\alexf\\appdata\\local\\packages\\pythonsoftwarefoundation.python.3.10_qbz5n2kfra8p0\\localcache\\local-packages\\python310\\site-packages (4.0.1)\n",
      "Requirement already satisfied: requests in c:\\users\\alexf\\appdata\\local\\packages\\pythonsoftwarefoundation.python.3.10_qbz5n2kfra8p0\\localcache\\local-packages\\python310\\site-packages (from webdriver-manager) (2.28.1)\n",
      "Requirement already satisfied: python-dotenv in c:\\users\\alexf\\appdata\\local\\packages\\pythonsoftwarefoundation.python.3.10_qbz5n2kfra8p0\\localcache\\local-packages\\python310\\site-packages (from webdriver-manager) (1.0.1)\n",
      "Requirement already satisfied: packaging in c:\\users\\alexf\\appdata\\local\\packages\\pythonsoftwarefoundation.python.3.10_qbz5n2kfra8p0\\localcache\\local-packages\\python310\\site-packages (from webdriver-manager) (21.3)\n",
      "Requirement already satisfied: pyparsing!=3.0.5,>=2.0.2 in c:\\users\\alexf\\appdata\\local\\packages\\pythonsoftwarefoundation.python.3.10_qbz5n2kfra8p0\\localcache\\local-packages\\python310\\site-packages (from packaging->webdriver-manager) (3.0.9)\n",
      "Requirement already satisfied: charset-normalizer<3,>=2 in c:\\users\\alexf\\appdata\\local\\packages\\pythonsoftwarefoundation.python.3.10_qbz5n2kfra8p0\\localcache\\local-packages\\python310\\site-packages (from requests->webdriver-manager) (2.1.1)\n",
      "Requirement already satisfied: idna<4,>=2.5 in c:\\users\\alexf\\appdata\\local\\packages\\pythonsoftwarefoundation.python.3.10_qbz5n2kfra8p0\\localcache\\local-packages\\python310\\site-packages (from requests->webdriver-manager) (3.3)\n",
      "Requirement already satisfied: urllib3<1.27,>=1.21.1 in c:\\users\\alexf\\appdata\\local\\packages\\pythonsoftwarefoundation.python.3.10_qbz5n2kfra8p0\\localcache\\local-packages\\python310\\site-packages (from requests->webdriver-manager) (1.26.9)\n",
      "Requirement already satisfied: certifi>=2017.4.17 in c:\\users\\alexf\\appdata\\local\\packages\\pythonsoftwarefoundation.python.3.10_qbz5n2kfra8p0\\localcache\\local-packages\\python310\\site-packages (from requests->webdriver-manager) (2021.10.8)\n"
     ]
    },
    {
     "name": "stderr",
     "output_type": "stream",
     "text": [
      "\n",
      "[notice] A new release of pip is available: 23.3.1 -> 24.1.1\n",
      "[notice] To update, run: C:\\Users\\alexf\\AppData\\Local\\Microsoft\\WindowsApps\\PythonSoftwareFoundation.Python.3.10_qbz5n2kfra8p0\\python.exe -m pip install --upgrade pip\n"
     ]
    }
   ],
   "source": [
    "!pip install chromium-browser\n",
    "!pip install chromium-chromedriver\n",
    "!pip install --upgrade selenium\n",
    "!pip install webdriver-manager\n",
    "#!pip install os usar para puxar a data de hj"
   ]
  },
  {
   "cell_type": "code",
   "execution_count": 2,
   "metadata": {},
   "outputs": [],
   "source": [
    "from selenium import webdriver\n",
    "from selenium.webdriver.common.by import By\n",
    "from time import sleep\n",
    "import pandas as pd\n",
    "from selenium.webdriver.common.keys import Keys\n",
    "from webdriver_manager.chrome import ChromeDriverManager\n",
    "from selenium.webdriver.chrome.service import Service"
   ]
  },
  {
   "cell_type": "code",
   "execution_count": 3,
   "metadata": {},
   "outputs": [],
   "source": [
    "# Automatiza a instalação do webdriver.\n",
    "\n",
    "servico = Service(ChromeDriverManager().install())\n",
    "#nav = webdriver.Chrome(service=servico)   "
   ]
  },
  {
   "cell_type": "code",
   "execution_count": 4,
   "metadata": {},
   "outputs": [
    {
     "name": "stderr",
     "output_type": "stream",
     "text": [
      "C:\\Users\\alexf\\AppData\\Local\\Packages\\PythonSoftwareFoundation.Python.3.10_qbz5n2kfra8p0\\LocalCache\\local-packages\\Python310\\site-packages\\openpyxl\\worksheet\\_reader.py:312: UserWarning: Conditional Formatting extension is not supported and will be removed\n",
      "  warn(msg)\n"
     ]
    }
   ],
   "source": [
    "tabela = pd.read_excel(\"planejamento.xlsx\", sheet_name=\"preencher\")"
   ]
  },
  {
   "cell_type": "code",
   "execution_count": 5,
   "metadata": {},
   "outputs": [],
   "source": [
    "tabela[\"Data\"] = tabela[\"Data\"].dt.strftime(\"%d/%m/%Y\")"
   ]
  },
  {
   "cell_type": "code",
   "execution_count": 6,
   "metadata": {},
   "outputs": [
    {
     "data": {
      "text/html": [
       "<div>\n",
       "<style scoped>\n",
       "    .dataframe tbody tr th:only-of-type {\n",
       "        vertical-align: middle;\n",
       "    }\n",
       "\n",
       "    .dataframe tbody tr th {\n",
       "        vertical-align: top;\n",
       "    }\n",
       "\n",
       "    .dataframe thead th {\n",
       "        text-align: right;\n",
       "    }\n",
       "</style>\n",
       "<table border=\"1\" class=\"dataframe\">\n",
       "  <thead>\n",
       "    <tr style=\"text-align: right;\">\n",
       "      <th></th>\n",
       "      <th>EtapadaMatrícula</th>\n",
       "      <th>Turma</th>\n",
       "      <th>Disciplina</th>\n",
       "      <th>Turno</th>\n",
       "      <th>Escola</th>\n",
       "      <th>Bimestre</th>\n",
       "      <th>Data</th>\n",
       "      <th>ConteudoLecionado</th>\n",
       "      <th>truncado</th>\n",
       "    </tr>\n",
       "  </thead>\n",
       "  <tbody>\n",
       "    <tr>\n",
       "      <th>0</th>\n",
       "      <td>3º ano</td>\n",
       "      <td>3º EM REG 2 (2024)</td>\n",
       "      <td>Urbanização Sustentável (cnt) (aprof. Componen...</td>\n",
       "      <td>Manhã</td>\n",
       "      <td>Avenida Delvito Alves da Silva, 888</td>\n",
       "      <td>2º BIMESTRE</td>\n",
       "      <td>29/06/2024</td>\n",
       "      <td>produção de texto</td>\n",
       "      <td>3º EM REG 2 (2024) - Urbanização Sustentável (...</td>\n",
       "    </tr>\n",
       "    <tr>\n",
       "      <th>1</th>\n",
       "      <td>3º ano</td>\n",
       "      <td>3º EM REG 2 (2024)</td>\n",
       "      <td>Urbanização Sustentável (cnt) (aprof. Componen...</td>\n",
       "      <td>Manhã</td>\n",
       "      <td>Avenida Delvito Alves da Silva, 888</td>\n",
       "      <td>2º BIMESTRE</td>\n",
       "      <td>01/07/2024</td>\n",
       "      <td>produção de texto</td>\n",
       "      <td>3º EM REG 2 (2024) - Urbanização Sustentável (...</td>\n",
       "    </tr>\n",
       "  </tbody>\n",
       "</table>\n",
       "</div>"
      ],
      "text/plain": [
       "  EtapadaMatrícula               Turma  \\\n",
       "0           3º ano  3º EM REG 2 (2024)   \n",
       "1           3º ano  3º EM REG 2 (2024)   \n",
       "\n",
       "                                          Disciplina  Turno  \\\n",
       "0  Urbanização Sustentável (cnt) (aprof. Componen...  Manhã   \n",
       "1  Urbanização Sustentável (cnt) (aprof. Componen...  Manhã   \n",
       "\n",
       "                                Escola     Bimestre        Data  \\\n",
       "0  Avenida Delvito Alves da Silva, 888  2º BIMESTRE  29/06/2024   \n",
       "1  Avenida Delvito Alves da Silva, 888  2º BIMESTRE  01/07/2024   \n",
       "\n",
       "   ConteudoLecionado                                           truncado  \n",
       "0  produção de texto  3º EM REG 2 (2024) - Urbanização Sustentável (...  \n",
       "1  produção de texto  3º EM REG 2 (2024) - Urbanização Sustentável (...  "
      ]
     },
     "execution_count": 6,
     "metadata": {},
     "output_type": "execute_result"
    }
   ],
   "source": [
    "tabela.head()"
   ]
  },
  {
   "cell_type": "code",
   "execution_count": 7,
   "metadata": {},
   "outputs": [],
   "source": [
    "class newbot:\n",
    "    def __init__(self):\n",
    "        options = webdriver.ChromeOptions()\n",
    "        self.driver = webdriver.Chrome(options=options, service=servico)\n",
    "\n",
    "    def driver(self):\n",
    "        options = webdriver.ChromeOptions()\n",
    "        driver = webdriver.Chrome(options=options)\n",
    "\n",
    "    def diario_escolar_login(self):\n",
    "        print(\"preencha os campos com seu login, senha e o capchat na pagina do diario que acabou de abrir. \\nNAO CLICK EM ENTRAR\")          \n",
    "        site = 'https://dedmais.educacao.mg.gov.br/'\n",
    "        self.driver.get(site)                                                                                                       \n",
    "        ja = input(\"digite  's'  ao terminar:\\n ('x' para fechar)\\n \")\n",
    "        if ja == \"s\":\n",
    "            self.driver.find_element(by=By.XPATH, value='/html/body/div[1]/div/div/div[1]/div[3]/div[3]/div/div[2]/div/form/div[4]/button[2]').click()                #click em entrar\n",
    "            self.driver.implicitly_wait(5)    \n",
    "        elif ja == \"x\":\n",
    "            self.driver.close()\n",
    "        else:\n",
    "            bott = newbot()\n",
    "            bott.diario_escolar_login()\n",
    "            "
   ]
  },
  {
   "cell_type": "code",
   "execution_count": 8,
   "metadata": {},
   "outputs": [
    {
     "name": "stdout",
     "output_type": "stream",
     "text": [
      "preencha os campos com seu login, senha e o capchat na pagina do diario que acabou de abrir. \n",
      "NAO CLICK EM ENTRAR\n"
     ]
    }
   ],
   "source": [
    "bot = newbot()\n",
    "bot.diario_escolar_login()\n",
    "# https://chromedriver.chromium.org/downloads (124.0.6367.61)"
   ]
  },
  {
   "cell_type": "code",
   "execution_count": 9,
   "metadata": {},
   "outputs": [],
   "source": [
    "def select_turma():\n",
    "    cards = bot.driver.find_elements(by=By.CLASS_NAME, value=\"v-card-text\")\n",
    "    df_cards = pd.DataFrame(columns=['EtapadaMatrícula','Turma','Escola','Disciplina','Turno', 'ElementoWeb'])\t\n",
    "    \n",
    "    button = bot.driver.find_elements(by=By.CLASS_NAME, value=\"v-btn\")\n",
    "\n",
    "    for i in range(len(cards)):\n",
    "        sleep(2)\n",
    "        cards = bot.driver.find_elements(by=By.CLASS_NAME, value=\"v-card-text\")                                                                                     #monta o df_cards\n",
    "        bot.driver.implicitly_wait(5)\n",
    "        list_card = cards[i].text.split(\"\\n\")\n",
    "        list_card.append(cards[i])\n",
    "        df_cards.loc[len(df_cards)] = list_card\n",
    "        df_cards.loc[i, \"Turma\"] = df_cards.loc[i, \"Turma\"].split(\" - \")[0]\n",
    "        #df_cards[\"Turma\"][i] = df_cards[\"Turma\"][i].split(\" - \")[0]\n",
    "        bot.driver.implicitly_wait(5)\n",
    "        cards[i].click()\n",
    "        global contador\n",
    "        contador = 0\n",
    "        #sleep(2)\n",
    "        \n",
    "        for ii in range(len(tabela)):\n",
    "            \n",
    "            def lancamento():               \n",
    "                #click em Cadastrar aula\n",
    "                button = bot.driver.find_elements(by=By.CLASS_NAME, value=\"v-btn\")\n",
    "                button[2].click()\n",
    "                sleep(1)\n",
    "                \n",
    "                #click em data\n",
    "                bot.driver.implicitly_wait(5)\n",
    "                bot.driver.find_element(by=By.XPATH, value=\"/html/body/div[2]/div/div[2]/div/div/div/div[2]/div[2]/div[1]/div/input\").click()\n",
    "                sleep(1)\n",
    "                bot.driver.implicitly_wait(5)\n",
    "                \n",
    "                #for para apagar data que vem lancada no diario.\n",
    "                for x in range(10):                                                                              \n",
    "                    bot.driver.find_element(by=By.ID, value=\"dataAula\").send_keys(Keys.BACKSPACE)\n",
    "                    x += 1\n",
    "                \n",
    "                #lanca data\n",
    "                sleep(1)\n",
    "                bot.driver.implicitly_wait(5)               \n",
    "                data = tabela[\"Data\"][ii]\n",
    "                bot.driver.find_element(by=By.XPATH, value=\"/html/body/div[2]/div/div[2]/div/div/div/div[2]/div[2]/div[1]/div/input\").send_keys(str(data)) \n",
    "                print( tabela[\"Turma\"][ii], tabela[\"Data\"][ii],tabela[\"ConteudoLecionado\"][ii])\n",
    "                sleep(1)\n",
    "                \n",
    "                #lanca descrição\n",
    "                bot.driver.implicitly_wait(5)\n",
    "                bot.driver.find_element(by=By.XPATH, value=\"/html/body/div[2]/div/div[2]/div/div/div/div[2]/div[2]/div[6]/textarea\").send_keys(tabela[\"ConteudoLecionado\"][ii])\n",
    "                sleep(1)\n",
    "                bot.driver.implicitly_wait(5)\n",
    "                \n",
    "                #click em salvar\n",
    "                button = bot.driver.find_elements(by=By.CLASS_NAME, value=\"v-btn\")\n",
    "                button[8].click()\n",
    "                sleep(1)\n",
    "                bot.driver.implicitly_wait(5)\n",
    "                \n",
    "                #click em cancelar\n",
    "                button = bot.driver.find_elements(by=By.CLASS_NAME, value=\"v-btn\")\n",
    "                button[7].click()\n",
    "                sleep(1)\n",
    "                bot.driver.implicitly_wait(5)\n",
    "\n",
    "                #print( f\" aula n° {ii}\", tabela[\"Turma\"][ii], tabela[\"Data\"][ii], tabela[\"ConteudoLecionado\"][ii])\n",
    "                bot.driver.implicitly_wait(5)\n",
    "\n",
    "            if (tabela[\"Turma\"][ii] == df_cards[\"Turma\"][i]) and (tabela[\"Disciplina\"][ii] == df_cards[\"Disciplina\"][i] ):\n",
    "                sleep(1)\n",
    "                bot.driver.implicitly_wait(5)\n",
    "\n",
    "                if contador == 0:\n",
    "                    #click em aula\n",
    "                    button = bot.driver.find_elements(by=By.CLASS_NAME, value=\"v-btn\")\n",
    "                    button[4].click()\n",
    "                    sleep(1)\n",
    "                    bot.driver.implicitly_wait(5)\n",
    "\n",
    "                    lancamento()\n",
    "\n",
    "                    #print( f\" aula n° {ii}\", tabela[\"Turma\"][ii], tabela[\"Data\"][ii], tabela[\"ConteudoLecionado\"][ii])\n",
    "                    bot.driver.implicitly_wait(5)\n",
    "                    contador = 1\n",
    "\n",
    "                else: \n",
    "                    lancamento()\n",
    "                    \n",
    "        try:\n",
    "            bot.driver.find_element(by=By.XPATH, value=\"/html/body/div[1]/div/div/div/div/header/div/div[1]/button\").click()\n",
    "            sleep(2)\n",
    "            bot.driver.implicitly_wait(5)\n",
    "            bot.driver.find_element(by=By.XPATH, value=\"/html/body/div[1]/div/div/div/div/header/div/div[1]/button\").click()\n",
    "            sleep(2)\n",
    "            bot.driver.implicitly_wait(5)\n",
    "            cards = bot.driver.find_elements(by=By.CLASS_NAME, value=\"v-card-text\")  \n",
    "        \n",
    "        except:\n",
    "            continue\n",
    "                "
   ]
  },
  {
   "cell_type": "code",
   "execution_count": 30,
   "metadata": {},
   "outputs": [
    {
     "name": "stdout",
     "output_type": "stream",
     "text": [
      "3º EM REG 2 (2024) 29/06/2024 produção de texto\n",
      "3º EM REG 2 (2024) 01/07/2024 produção de texto\n"
     ]
    }
   ],
   "source": [
    "select_turma()"
   ]
  },
  {
   "cell_type": "code",
   "execution_count": 43,
   "metadata": {},
   "outputs": [
    {
     "name": "stderr",
     "output_type": "stream",
     "text": [
      "c:\\Users\\alexf\\OneDrive\\Documentos\\GitHub\\lancamento2024\\lancamento2024\\lib\\site-packages\\openpyxl\\worksheet\\_reader.py:329: UserWarning: Conditional Formatting extension is not supported and will be removed\n",
      "  warn(msg)\n"
     ]
    }
   ],
   "source": [
    "tabelateste = pd.read_excel(\"planejamento.xlsx\", sheet_name=\"datasFís\",header=1, usecols=(\"data\", \"dia letivo\",\"bimestre\"))"
   ]
  },
  {
   "cell_type": "code",
   "execution_count": 44,
   "metadata": {},
   "outputs": [
    {
     "data": {
      "text/html": [
       "<div>\n",
       "<style scoped>\n",
       "    .dataframe tbody tr th:only-of-type {\n",
       "        vertical-align: middle;\n",
       "    }\n",
       "\n",
       "    .dataframe tbody tr th {\n",
       "        vertical-align: top;\n",
       "    }\n",
       "\n",
       "    .dataframe thead th {\n",
       "        text-align: right;\n",
       "    }\n",
       "</style>\n",
       "<table border=\"1\" class=\"dataframe\">\n",
       "  <thead>\n",
       "    <tr style=\"text-align: right;\">\n",
       "      <th></th>\n",
       "      <th>data</th>\n",
       "      <th>dia letivo</th>\n",
       "      <th>bimestre</th>\n",
       "    </tr>\n",
       "  </thead>\n",
       "  <tbody>\n",
       "    <tr>\n",
       "      <th>0</th>\n",
       "      <td>2024-02-05</td>\n",
       "      <td>quinta-feira</td>\n",
       "      <td>1° bimestre</td>\n",
       "    </tr>\n",
       "    <tr>\n",
       "      <th>1</th>\n",
       "      <td>2024-02-06</td>\n",
       "      <td>sexta-feira</td>\n",
       "      <td>1° bimestre</td>\n",
       "    </tr>\n",
       "    <tr>\n",
       "      <th>2</th>\n",
       "      <td>2024-02-07</td>\n",
       "      <td>quarta-feira</td>\n",
       "      <td>1° bimestre</td>\n",
       "    </tr>\n",
       "    <tr>\n",
       "      <th>3</th>\n",
       "      <td>2024-02-08</td>\n",
       "      <td>quinta-feira</td>\n",
       "      <td>1° bimestre</td>\n",
       "    </tr>\n",
       "    <tr>\n",
       "      <th>4</th>\n",
       "      <td>2024-02-09</td>\n",
       "      <td>sexta-feira</td>\n",
       "      <td>1° bimestre</td>\n",
       "    </tr>\n",
       "  </tbody>\n",
       "</table>\n",
       "</div>"
      ],
      "text/plain": [
       "        data    dia letivo     bimestre\n",
       "0 2024-02-05  quinta-feira  1° bimestre\n",
       "1 2024-02-06   sexta-feira  1° bimestre\n",
       "2 2024-02-07  quarta-feira  1° bimestre\n",
       "3 2024-02-08  quinta-feira  1° bimestre\n",
       "4 2024-02-09   sexta-feira  1° bimestre"
      ]
     },
     "execution_count": 44,
     "metadata": {},
     "output_type": "execute_result"
    }
   ],
   "source": [
    "tabelateste.head(5)"
   ]
  },
  {
   "cell_type": "code",
   "execution_count": 46,
   "metadata": {},
   "outputs": [
    {
     "ename": "TypeError",
     "evalue": "_LocationIndexer.__call__() takes from 1 to 2 positional arguments but 3 were given",
     "output_type": "error",
     "traceback": [
      "\u001b[1;31m---------------------------------------------------------------------------\u001b[0m",
      "\u001b[1;31mTypeError\u001b[0m                                 Traceback (most recent call last)",
      "Cell \u001b[1;32mIn[46], line 1\u001b[0m\n\u001b[1;32m----> 1\u001b[0m \u001b[43mtabelateste\u001b[49m\u001b[38;5;241;43m.\u001b[39;49m\u001b[43mloc\u001b[49m\u001b[43m(\u001b[49m\u001b[43m \u001b[49m\u001b[38;5;241;43m2\u001b[39;49m\u001b[43m,\u001b[49m\u001b[38;5;124;43m\"\u001b[39;49m\u001b[38;5;124;43mbimestre\u001b[39;49m\u001b[38;5;124;43m\"\u001b[39;49m\u001b[43m)\u001b[49m\n",
      "\u001b[1;31mTypeError\u001b[0m: _LocationIndexer.__call__() takes from 1 to 2 positional arguments but 3 were given"
     ]
    }
   ],
   "source": [
    "#atualização de dados\n"
   ]
  },
  {
   "cell_type": "code",
   "execution_count": 50,
   "metadata": {},
   "outputs": [],
   "source": []
  },
  {
   "cell_type": "code",
   "execution_count": 51,
   "metadata": {},
   "outputs": [
    {
     "name": "stdout",
     "output_type": "stream",
     "text": [
      "6\n",
      "Voltar\n",
      "6\n",
      "\n",
      "6\n",
      "Cadastrar aula\n",
      "6\n",
      "3º Bimestre\n",
      "6\n",
      "Fechar\n",
      "Bimestre\n",
      "6\n",
      "Trocar Escola\n"
     ]
    }
   ],
   "source": []
  },
  {
   "cell_type": "code",
   "execution_count": 45,
   "metadata": {},
   "outputs": [],
   "source": []
  },
  {
   "cell_type": "code",
   "execution_count": null,
   "metadata": {},
   "outputs": [],
   "source": []
  },
  {
   "cell_type": "code",
   "execution_count": null,
   "metadata": {},
   "outputs": [],
   "source": []
  },
  {
   "cell_type": "code",
   "execution_count": 52,
   "metadata": {},
   "outputs": [
    {
     "ename": "WebDriverException",
     "evalue": "Message: disconnected: not connected to DevTools\n  (failed to check if window was closed: disconnected: not connected to DevTools)\n  (Session info: chrome=126.0.6478.127)\nStacktrace:\n\tGetHandleVerifier [0x004FC1C3+27395]\n\t(No symbol) [0x00493DC4]\n\t(No symbol) [0x00391B7F]\n\t(No symbol) [0x0037BAF7]\n\t(No symbol) [0x0037C3CD]\n\t(No symbol) [0x00392092]\n\t(No symbol) [0x0036E06D]\n\t(No symbol) [0x003FF82B]\n\t(No symbol) [0x003F3963]\n\t(No symbol) [0x003C7541]\n\t(No symbol) [0x003C80BD]\n\tGetHandleVerifier [0x007B3A93+2876371]\n\tGetHandleVerifier [0x00807F5D+3221661]\n\tGetHandleVerifier [0x0057D634+556916]\n\tGetHandleVerifier [0x0058474C+585868]\n\t(No symbol) [0x0049CE04]\n\t(No symbol) [0x00499818]\n\t(No symbol) [0x004999B7]\n\t(No symbol) [0x0048BF0E]\n\tBaseThreadInitThunk [0x76637BA9+25]\n\tRtlInitializeExceptionChain [0x7760C10B+107]\n\tRtlClearBits [0x7760C08F+191]\n",
     "output_type": "error",
     "traceback": [
      "\u001b[1;31m---------------------------------------------------------------------------\u001b[0m",
      "\u001b[1;31mWebDriverException\u001b[0m                        Traceback (most recent call last)",
      "Input \u001b[1;32mIn [52]\u001b[0m, in \u001b[0;36m<cell line: 1>\u001b[1;34m()\u001b[0m\n\u001b[1;32m----> 1\u001b[0m \u001b[43mbot\u001b[49m\u001b[38;5;241;43m.\u001b[39;49m\u001b[43mdriver\u001b[49m\u001b[38;5;241;43m.\u001b[39;49m\u001b[43mclose\u001b[49m\u001b[43m(\u001b[49m\u001b[43m)\u001b[49m\n",
      "File \u001b[1;32m~\\AppData\\Local\\Packages\\PythonSoftwareFoundation.Python.3.10_qbz5n2kfra8p0\\LocalCache\\local-packages\\Python310\\site-packages\\selenium\\webdriver\\remote\\webdriver.py:465\u001b[0m, in \u001b[0;36mWebDriver.close\u001b[1;34m(self)\u001b[0m\n\u001b[0;32m    457\u001b[0m \u001b[38;5;28;01mdef\u001b[39;00m \u001b[38;5;21mclose\u001b[39m(\u001b[38;5;28mself\u001b[39m) \u001b[38;5;241m-\u001b[39m\u001b[38;5;241m>\u001b[39m \u001b[38;5;28;01mNone\u001b[39;00m:\n\u001b[0;32m    458\u001b[0m     \u001b[38;5;124;03m\"\"\"Closes the current window.\u001b[39;00m\n\u001b[0;32m    459\u001b[0m \n\u001b[0;32m    460\u001b[0m \u001b[38;5;124;03m    :Usage:\u001b[39;00m\n\u001b[1;32m   (...)\u001b[0m\n\u001b[0;32m    463\u001b[0m \u001b[38;5;124;03m            driver.close()\u001b[39;00m\n\u001b[0;32m    464\u001b[0m \u001b[38;5;124;03m    \"\"\"\u001b[39;00m\n\u001b[1;32m--> 465\u001b[0m     \u001b[38;5;28;43mself\u001b[39;49m\u001b[38;5;241;43m.\u001b[39;49m\u001b[43mexecute\u001b[49m\u001b[43m(\u001b[49m\u001b[43mCommand\u001b[49m\u001b[38;5;241;43m.\u001b[39;49m\u001b[43mCLOSE\u001b[49m\u001b[43m)\u001b[49m\n",
      "File \u001b[1;32m~\\AppData\\Local\\Packages\\PythonSoftwareFoundation.Python.3.10_qbz5n2kfra8p0\\LocalCache\\local-packages\\Python310\\site-packages\\selenium\\webdriver\\remote\\webdriver.py:354\u001b[0m, in \u001b[0;36mWebDriver.execute\u001b[1;34m(self, driver_command, params)\u001b[0m\n\u001b[0;32m    352\u001b[0m response \u001b[38;5;241m=\u001b[39m \u001b[38;5;28mself\u001b[39m\u001b[38;5;241m.\u001b[39mcommand_executor\u001b[38;5;241m.\u001b[39mexecute(driver_command, params)\n\u001b[0;32m    353\u001b[0m \u001b[38;5;28;01mif\u001b[39;00m response:\n\u001b[1;32m--> 354\u001b[0m     \u001b[38;5;28;43mself\u001b[39;49m\u001b[38;5;241;43m.\u001b[39;49m\u001b[43merror_handler\u001b[49m\u001b[38;5;241;43m.\u001b[39;49m\u001b[43mcheck_response\u001b[49m\u001b[43m(\u001b[49m\u001b[43mresponse\u001b[49m\u001b[43m)\u001b[49m\n\u001b[0;32m    355\u001b[0m     response[\u001b[38;5;124m\"\u001b[39m\u001b[38;5;124mvalue\u001b[39m\u001b[38;5;124m\"\u001b[39m] \u001b[38;5;241m=\u001b[39m \u001b[38;5;28mself\u001b[39m\u001b[38;5;241m.\u001b[39m_unwrap_value(response\u001b[38;5;241m.\u001b[39mget(\u001b[38;5;124m\"\u001b[39m\u001b[38;5;124mvalue\u001b[39m\u001b[38;5;124m\"\u001b[39m, \u001b[38;5;28;01mNone\u001b[39;00m))\n\u001b[0;32m    356\u001b[0m     \u001b[38;5;28;01mreturn\u001b[39;00m response\n",
      "File \u001b[1;32m~\\AppData\\Local\\Packages\\PythonSoftwareFoundation.Python.3.10_qbz5n2kfra8p0\\LocalCache\\local-packages\\Python310\\site-packages\\selenium\\webdriver\\remote\\errorhandler.py:229\u001b[0m, in \u001b[0;36mErrorHandler.check_response\u001b[1;34m(self, response)\u001b[0m\n\u001b[0;32m    227\u001b[0m         alert_text \u001b[38;5;241m=\u001b[39m value[\u001b[38;5;124m\"\u001b[39m\u001b[38;5;124malert\u001b[39m\u001b[38;5;124m\"\u001b[39m]\u001b[38;5;241m.\u001b[39mget(\u001b[38;5;124m\"\u001b[39m\u001b[38;5;124mtext\u001b[39m\u001b[38;5;124m\"\u001b[39m)\n\u001b[0;32m    228\u001b[0m     \u001b[38;5;28;01mraise\u001b[39;00m exception_class(message, screen, stacktrace, alert_text)  \u001b[38;5;66;03m# type: ignore[call-arg]  # mypy is not smart enough here\u001b[39;00m\n\u001b[1;32m--> 229\u001b[0m \u001b[38;5;28;01mraise\u001b[39;00m exception_class(message, screen, stacktrace)\n",
      "\u001b[1;31mWebDriverException\u001b[0m: Message: disconnected: not connected to DevTools\n  (failed to check if window was closed: disconnected: not connected to DevTools)\n  (Session info: chrome=126.0.6478.127)\nStacktrace:\n\tGetHandleVerifier [0x004FC1C3+27395]\n\t(No symbol) [0x00493DC4]\n\t(No symbol) [0x00391B7F]\n\t(No symbol) [0x0037BAF7]\n\t(No symbol) [0x0037C3CD]\n\t(No symbol) [0x00392092]\n\t(No symbol) [0x0036E06D]\n\t(No symbol) [0x003FF82B]\n\t(No symbol) [0x003F3963]\n\t(No symbol) [0x003C7541]\n\t(No symbol) [0x003C80BD]\n\tGetHandleVerifier [0x007B3A93+2876371]\n\tGetHandleVerifier [0x00807F5D+3221661]\n\tGetHandleVerifier [0x0057D634+556916]\n\tGetHandleVerifier [0x0058474C+585868]\n\t(No symbol) [0x0049CE04]\n\t(No symbol) [0x00499818]\n\t(No symbol) [0x004999B7]\n\t(No symbol) [0x0048BF0E]\n\tBaseThreadInitThunk [0x76637BA9+25]\n\tRtlInitializeExceptionChain [0x7760C10B+107]\n\tRtlClearBits [0x7760C08F+191]\n"
     ]
    }
   ],
   "source": [
    "bot.driver.close()"
   ]
  },
  {
   "cell_type": "code",
   "execution_count": null,
   "metadata": {},
   "outputs": [],
   "source": []
  }
 ],
 "metadata": {
  "kernelspec": {
   "display_name": "lancamento2024",
   "language": "python",
   "name": "python3"
  },
  "language_info": {
   "codemirror_mode": {
    "name": "ipython",
    "version": 3
   },
   "file_extension": ".py",
   "mimetype": "text/x-python",
   "name": "python",
   "nbconvert_exporter": "python",
   "pygments_lexer": "ipython3",
   "version": "3.10.11"
  }
 },
 "nbformat": 4,
 "nbformat_minor": 2
}

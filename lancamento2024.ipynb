{
 "cells": [
  {
   "cell_type": "code",
   "execution_count": 13,
   "metadata": {},
   "outputs": [
    {
     "name": "stderr",
     "output_type": "stream",
     "text": [
      "ERROR: Could not find a version that satisfies the requirement requerimentos.txt (from versions: none)\n",
      "ERROR: No matching distribution found for requerimentos.txt\n"
     ]
    }
   ],
   "source": [
    "!pip install requerimentos.txt"
   ]
  },
  {
   "cell_type": "code",
   "execution_count": 14,
   "metadata": {},
   "outputs": [],
   "source": [
    "#!pip install chromium-browser\n",
    "#!pip install chromium-chromedriver\n",
    "#!pip install --upgrade selenium\n",
    "#!pip install webdriver-manager\n",
    "#!pip install os usar para puxar a data de hj"
   ]
  },
  {
   "cell_type": "code",
   "execution_count": 16,
   "metadata": {},
   "outputs": [],
   "source": [
    "from selenium import webdriver\n",
    "from selenium.webdriver.common.by import By\n",
    "from time import sleep\n",
    "import pandas as pd\n",
    "from selenium.webdriver.common.keys import Keys\n",
    "from webdriver_manager.chrome import ChromeDriverManager\n",
    "from selenium.webdriver.chrome.service import Service"
   ]
  },
  {
   "cell_type": "code",
   "execution_count": 17,
   "metadata": {},
   "outputs": [],
   "source": [
    "# Automatiza a instalação do webdriver.\n",
    "servico = Service(ChromeDriverManager().install())\n",
    "#nav = webdriver.Chrome(service=servico)   "
   ]
  },
  {
   "cell_type": "code",
   "execution_count": 10,
   "metadata": {},
   "outputs": [
    {
     "name": "stderr",
     "output_type": "stream",
     "text": [
      "c:\\Users\\alexf\\OneDrive\\Documentos\\GitHub\\lancamento24\\amb-venv\\lib\\site-packages\\openpyxl\\worksheet\\_reader.py:329: UserWarning: Conditional Formatting extension is not supported and will be removed\n",
      "  warn(msg)\n"
     ]
    }
   ],
   "source": [
    "tabela = pd.read_excel(\"planejamento.xlsx\", sheet_name=\"preencher\")"
   ]
  },
  {
   "cell_type": "code",
   "execution_count": 5,
   "metadata": {},
   "outputs": [],
   "source": [
    "tabela[\"Data\"] = tabela[\"Data\"].dt.strftime(\"%d/%m/%Y\")"
   ]
  },
  {
   "cell_type": "code",
   "execution_count": 6,
   "metadata": {},
   "outputs": [
    {
     "data": {
      "text/html": [
       "<div>\n",
       "<style scoped>\n",
       "    .dataframe tbody tr th:only-of-type {\n",
       "        vertical-align: middle;\n",
       "    }\n",
       "\n",
       "    .dataframe tbody tr th {\n",
       "        vertical-align: top;\n",
       "    }\n",
       "\n",
       "    .dataframe thead th {\n",
       "        text-align: right;\n",
       "    }\n",
       "</style>\n",
       "<table border=\"1\" class=\"dataframe\">\n",
       "  <thead>\n",
       "    <tr style=\"text-align: right;\">\n",
       "      <th></th>\n",
       "      <th>EtapadaMatrícula</th>\n",
       "      <th>Turma</th>\n",
       "      <th>Disciplina</th>\n",
       "      <th>Turno</th>\n",
       "      <th>Escola</th>\n",
       "      <th>Bimestre</th>\n",
       "      <th>Data</th>\n",
       "      <th>ConteudoLecionado</th>\n",
       "      <th>truncado</th>\n",
       "    </tr>\n",
       "  </thead>\n",
       "  <tbody>\n",
       "    <tr>\n",
       "      <th>0</th>\n",
       "      <td>3º ano</td>\n",
       "      <td>3º EM REG 2 (2024)</td>\n",
       "      <td>Urbanização Sustentável (cnt) (aprof. Componen...</td>\n",
       "      <td>Manhã</td>\n",
       "      <td>Avenida Delvito Alves da Silva, 888</td>\n",
       "      <td>2º BIMESTRE</td>\n",
       "      <td>29/06/2024</td>\n",
       "      <td>produção de texto</td>\n",
       "      <td>3º EM REG 2 (2024) - Urbanização Sustentável (...</td>\n",
       "    </tr>\n",
       "    <tr>\n",
       "      <th>1</th>\n",
       "      <td>3º ano</td>\n",
       "      <td>3º EM REG 2 (2024)</td>\n",
       "      <td>Urbanização Sustentável (cnt) (aprof. Componen...</td>\n",
       "      <td>Manhã</td>\n",
       "      <td>Avenida Delvito Alves da Silva, 888</td>\n",
       "      <td>2º BIMESTRE</td>\n",
       "      <td>01/07/2024</td>\n",
       "      <td>produção de texto</td>\n",
       "      <td>3º EM REG 2 (2024) - Urbanização Sustentável (...</td>\n",
       "    </tr>\n",
       "  </tbody>\n",
       "</table>\n",
       "</div>"
      ],
      "text/plain": [
       "  EtapadaMatrícula               Turma  \\\n",
       "0           3º ano  3º EM REG 2 (2024)   \n",
       "1           3º ano  3º EM REG 2 (2024)   \n",
       "\n",
       "                                          Disciplina  Turno  \\\n",
       "0  Urbanização Sustentável (cnt) (aprof. Componen...  Manhã   \n",
       "1  Urbanização Sustentável (cnt) (aprof. Componen...  Manhã   \n",
       "\n",
       "                                Escola     Bimestre        Data  \\\n",
       "0  Avenida Delvito Alves da Silva, 888  2º BIMESTRE  29/06/2024   \n",
       "1  Avenida Delvito Alves da Silva, 888  2º BIMESTRE  01/07/2024   \n",
       "\n",
       "   ConteudoLecionado                                           truncado  \n",
       "0  produção de texto  3º EM REG 2 (2024) - Urbanização Sustentável (...  \n",
       "1  produção de texto  3º EM REG 2 (2024) - Urbanização Sustentável (...  "
      ]
     },
     "execution_count": 6,
     "metadata": {},
     "output_type": "execute_result"
    }
   ],
   "source": [
    "tabela.head()"
   ]
  },
  {
   "cell_type": "code",
   "execution_count": 18,
   "metadata": {},
   "outputs": [],
   "source": [
    "class newbot:\n",
    "    def __init__(self):\n",
    "        options = webdriver.ChromeOptions()\n",
    "        self.driver = webdriver.Chrome(options=options, service=servico)\n",
    "\n",
    "    def driver(self):\n",
    "        options = webdriver.ChromeOptions()\n",
    "        driver = webdriver.Chrome(options=options)\n",
    "\n",
    "    def diario_escolar_login(self):\n",
    "        print(\"preencha os campos com seu login, senha e o capchat na pagina do diario que acabou de abrir. \\nNAO CLICK EM ENTRAR\")          \n",
    "        site = 'https://dedmais.educacao.mg.gov.br/'\n",
    "        self.driver.get(site)                                                                                                       \n",
    "        ja = input(\"digite  's'  ao terminar:\\n ('x' para fechar)\\n \")\n",
    "        if ja == \"s\":\n",
    "            self.driver.find_element(by=By.XPATH, value='/html/body/div[1]/div/div/div[1]/div[3]/div[3]/div/div[2]/div/form/div[4]/button[2]').click()                #click em entrar\n",
    "            self.driver.implicitly_wait(5)    \n",
    "        elif ja == \"x\":\n",
    "            self.driver.close()\n",
    "        else:\n",
    "            bott = newbot()\n",
    "            bott.diario_escolar_login()\n",
    "            "
   ]
  },
  {
   "cell_type": "code",
   "execution_count": 19,
   "metadata": {},
   "outputs": [
    {
     "name": "stdout",
     "output_type": "stream",
     "text": [
      "preencha os campos com seu login, senha e o capchat na pagina do diario que acabou de abrir. \n",
      "NAO CLICK EM ENTRAR\n"
     ]
    }
   ],
   "source": [
    "bot = newbot()\n",
    "bot.diario_escolar_login()\n",
    "# https://chromedriver.chromium.org/downloads (124.0.6367.61)"
   ]
  },
  {
   "cell_type": "code",
   "execution_count": 9,
   "metadata": {},
   "outputs": [],
   "source": [
    "def select_turma():\n",
    "    cards = bot.driver.find_elements(by=By.CLASS_NAME, value=\"v-card-text\")\n",
    "    df_cards = pd.DataFrame(columns=['EtapadaMatrícula','Turma','Escola','Disciplina','Turno', 'ElementoWeb'])\t\n",
    "    \n",
    "    button = bot.driver.find_elements(by=By.CLASS_NAME, value=\"v-btn\")\n",
    "\n",
    "    for i in range(len(cards)):\n",
    "        sleep(2)\n",
    "        cards = bot.driver.find_elements(by=By.CLASS_NAME, value=\"v-card-text\")                                                                                     #monta o df_cards\n",
    "        bot.driver.implicitly_wait(5)\n",
    "        list_card = cards[i].text.split(\"\\n\")\n",
    "        list_card.append(cards[i])\n",
    "        df_cards.loc[len(df_cards)] = list_card\n",
    "        df_cards.loc[i, \"Turma\"] = df_cards.loc[i, \"Turma\"].split(\" - \")[0]\n",
    "        #df_cards[\"Turma\"][i] = df_cards[\"Turma\"][i].split(\" - \")[0]\n",
    "        bot.driver.implicitly_wait(5)\n",
    "        cards[i].click()\n",
    "        global contador\n",
    "        contador = 0\n",
    "        #sleep(2)\n",
    "        \n",
    "        for ii in range(len(tabela)):\n",
    "            \n",
    "            def lancamento():               \n",
    "                #click em Cadastrar aula\n",
    "                button = bot.driver.find_elements(by=By.CLASS_NAME, value=\"v-btn\")\n",
    "                button[2].click()\n",
    "                sleep(1)\n",
    "                \n",
    "                #click em data\n",
    "                bot.driver.implicitly_wait(5)\n",
    "                bot.driver.find_element(by=By.XPATH, value=\"/html/body/div[2]/div/div[2]/div/div/div/div[2]/div[2]/div[1]/div/input\").click()\n",
    "                sleep(1)\n",
    "                bot.driver.implicitly_wait(5)\n",
    "                \n",
    "                #for para apagar data que vem lancada no diario.\n",
    "                for x in range(10):                                                                              \n",
    "                    bot.driver.find_element(by=By.ID, value=\"dataAula\").send_keys(Keys.BACKSPACE)\n",
    "                    x += 1\n",
    "                \n",
    "                #lanca data\n",
    "                sleep(1)\n",
    "                bot.driver.implicitly_wait(5)               \n",
    "                data = tabela[\"Data\"][ii]\n",
    "                bot.driver.find_element(by=By.XPATH, value=\"/html/body/div[2]/div/div[2]/div/div/div/div[2]/div[2]/div[1]/div/input\").send_keys(str(data)) \n",
    "                print( tabela[\"Turma\"][ii], tabela[\"Data\"][ii],tabela[\"ConteudoLecionado\"][ii])\n",
    "                sleep(1)\n",
    "                \n",
    "                #lanca descrição\n",
    "                bot.driver.implicitly_wait(5)\n",
    "                bot.driver.find_element(by=By.XPATH, value=\"/html/body/div[2]/div/div[2]/div/div/div/div[2]/div[2]/div[6]/textarea\").send_keys(tabela[\"ConteudoLecionado\"][ii])\n",
    "                sleep(1)\n",
    "                bot.driver.implicitly_wait(5)\n",
    "                \n",
    "                #click em salvar\n",
    "                button = bot.driver.find_elements(by=By.CLASS_NAME, value=\"v-btn\")\n",
    "                button[8].click()\n",
    "                sleep(1)\n",
    "                bot.driver.implicitly_wait(5)\n",
    "                \n",
    "                #click em cancelar\n",
    "                button = bot.driver.find_elements(by=By.CLASS_NAME, value=\"v-btn\")\n",
    "                button[7].click()\n",
    "                sleep(1)\n",
    "                bot.driver.implicitly_wait(5)\n",
    "\n",
    "                #print( f\" aula n° {ii}\", tabela[\"Turma\"][ii], tabela[\"Data\"][ii], tabela[\"ConteudoLecionado\"][ii])\n",
    "                bot.driver.implicitly_wait(5)\n",
    "\n",
    "            if (tabela[\"Turma\"][ii] == df_cards[\"Turma\"][i]) and (tabela[\"Disciplina\"][ii] == df_cards[\"Disciplina\"][i] ):\n",
    "                sleep(1)\n",
    "                bot.driver.implicitly_wait(5)\n",
    "\n",
    "                if contador == 0:\n",
    "                    #click em aula\n",
    "                    button = bot.driver.find_elements(by=By.CLASS_NAME, value=\"v-btn\")\n",
    "                    button[4].click()\n",
    "                    sleep(1)\n",
    "                    bot.driver.implicitly_wait(5)\n",
    "\n",
    "                    lancamento()\n",
    "\n",
    "                    #print( f\" aula n° {ii}\", tabela[\"Turma\"][ii], tabela[\"Data\"][ii], tabela[\"ConteudoLecionado\"][ii])\n",
    "                    bot.driver.implicitly_wait(5)\n",
    "                    contador = 1\n",
    "\n",
    "                else: \n",
    "                    lancamento()\n",
    "                    \n",
    "        try:\n",
    "            bot.driver.find_element(by=By.XPATH, value=\"/html/body/div[1]/div/div/div/div/header/div/div[1]/button\").click()\n",
    "            sleep(2)\n",
    "            bot.driver.implicitly_wait(5)\n",
    "            bot.driver.find_element(by=By.XPATH, value=\"/html/body/div[1]/div/div/div/div/header/div/div[1]/button\").click()\n",
    "            sleep(2)\n",
    "            bot.driver.implicitly_wait(5)\n",
    "            cards = bot.driver.find_elements(by=By.CLASS_NAME, value=\"v-card-text\")  \n",
    "        \n",
    "        except:\n",
    "            continue\n",
    "                "
   ]
  },
  {
   "cell_type": "code",
   "execution_count": 30,
   "metadata": {},
   "outputs": [
    {
     "name": "stdout",
     "output_type": "stream",
     "text": [
      "3º EM REG 2 (2024) 29/06/2024 produção de texto\n",
      "3º EM REG 2 (2024) 01/07/2024 produção de texto\n"
     ]
    }
   ],
   "source": [
    "select_turma()"
   ]
  },
  {
   "cell_type": "code",
   "execution_count": null,
   "metadata": {},
   "outputs": [],
   "source": []
  },
  {
   "cell_type": "code",
   "execution_count": null,
   "metadata": {},
   "outputs": [],
   "source": []
  },
  {
   "cell_type": "code",
   "execution_count": null,
   "metadata": {},
   "outputs": [],
   "source": []
  },
  {
   "cell_type": "code",
   "execution_count": 50,
   "metadata": {},
   "outputs": [],
   "source": []
  },
  {
   "cell_type": "code",
   "execution_count": null,
   "metadata": {},
   "outputs": [],
   "source": []
  },
  {
   "cell_type": "code",
   "execution_count": 45,
   "metadata": {},
   "outputs": [],
   "source": []
  },
  {
   "cell_type": "code",
   "execution_count": null,
   "metadata": {},
   "outputs": [],
   "source": []
  },
  {
   "cell_type": "code",
   "execution_count": 20,
   "metadata": {},
   "outputs": [],
   "source": [
    "bot.driver.close()"
   ]
  },
  {
   "cell_type": "code",
   "execution_count": null,
   "metadata": {},
   "outputs": [],
   "source": []
  }
 ],
 "metadata": {
  "kernelspec": {
   "display_name": "lancamento2024",
   "language": "python",
   "name": "python3"
  },
  "language_info": {
   "codemirror_mode": {
    "name": "ipython",
    "version": 3
   },
   "file_extension": ".py",
   "mimetype": "text/x-python",
   "name": "python",
   "nbconvert_exporter": "python",
   "pygments_lexer": "ipython3",
   "version": "3.10.11"
  }
 },
 "nbformat": 4,
 "nbformat_minor": 2
}

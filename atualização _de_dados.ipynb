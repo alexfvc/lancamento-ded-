{
 "cells": [
  {
   "cell_type": "code",
   "execution_count": 2,
   "metadata": {},
   "outputs": [
    {
     "name": "stderr",
     "output_type": "stream",
     "text": [
      "ERROR: Could not find a version that satisfies the requirement chromium-browser (from versions: none)\n",
      "ERROR: No matching distribution found for chromium-browser\n",
      "\n",
      "[notice] A new release of pip is available: 23.3.1 -> 24.0\n",
      "[notice] To update, run: C:\\Users\\alexf\\AppData\\Local\\Microsoft\\WindowsApps\\PythonSoftwareFoundation.Python.3.10_qbz5n2kfra8p0\\python.exe -m pip install --upgrade pip\n",
      "ERROR: Could not find a version that satisfies the requirement chromium-chromedriver (from versions: none)\n",
      "ERROR: No matching distribution found for chromium-chromedriver\n",
      "\n",
      "[notice] A new release of pip is available: 23.3.1 -> 24.0\n",
      "[notice] To update, run: C:\\Users\\alexf\\AppData\\Local\\Microsoft\\WindowsApps\\PythonSoftwareFoundation.Python.3.10_qbz5n2kfra8p0\\python.exe -m pip install --upgrade pip\n"
     ]
    },
    {
     "name": "stdout",
     "output_type": "stream",
     "text": [
      "Requirement already satisfied: selenium in c:\\users\\alexf\\appdata\\local\\packages\\pythonsoftwarefoundation.python.3.10_qbz5n2kfra8p0\\localcache\\local-packages\\python310\\site-packages (4.21.0)\n",
      "Requirement already satisfied: urllib3<3,>=1.26 in c:\\users\\alexf\\appdata\\local\\packages\\pythonsoftwarefoundation.python.3.10_qbz5n2kfra8p0\\localcache\\local-packages\\python310\\site-packages (from urllib3[socks]<3,>=1.26->selenium) (1.26.9)\n",
      "Requirement already satisfied: trio~=0.17 in c:\\users\\alexf\\appdata\\local\\packages\\pythonsoftwarefoundation.python.3.10_qbz5n2kfra8p0\\localcache\\local-packages\\python310\\site-packages (from selenium) (0.20.0)\n",
      "Requirement already satisfied: trio-websocket~=0.9 in c:\\users\\alexf\\appdata\\local\\packages\\pythonsoftwarefoundation.python.3.10_qbz5n2kfra8p0\\localcache\\local-packages\\python310\\site-packages (from selenium) (0.9.2)\n",
      "Requirement already satisfied: certifi>=2021.10.8 in c:\\users\\alexf\\appdata\\local\\packages\\pythonsoftwarefoundation.python.3.10_qbz5n2kfra8p0\\localcache\\local-packages\\python310\\site-packages (from selenium) (2021.10.8)\n",
      "Requirement already satisfied: typing_extensions>=4.9.0 in c:\\users\\alexf\\appdata\\local\\packages\\pythonsoftwarefoundation.python.3.10_qbz5n2kfra8p0\\localcache\\local-packages\\python310\\site-packages (from selenium) (4.12.0)\n",
      "Requirement already satisfied: attrs>=19.2.0 in c:\\users\\alexf\\appdata\\local\\packages\\pythonsoftwarefoundation.python.3.10_qbz5n2kfra8p0\\localcache\\local-packages\\python310\\site-packages (from trio~=0.17->selenium) (21.4.0)\n",
      "Requirement already satisfied: sortedcontainers in c:\\users\\alexf\\appdata\\local\\packages\\pythonsoftwarefoundation.python.3.10_qbz5n2kfra8p0\\localcache\\local-packages\\python310\\site-packages (from trio~=0.17->selenium) (2.4.0)\n",
      "Requirement already satisfied: async-generator>=1.9 in c:\\users\\alexf\\appdata\\local\\packages\\pythonsoftwarefoundation.python.3.10_qbz5n2kfra8p0\\localcache\\local-packages\\python310\\site-packages (from trio~=0.17->selenium) (1.10)\n",
      "Requirement already satisfied: idna in c:\\users\\alexf\\appdata\\local\\packages\\pythonsoftwarefoundation.python.3.10_qbz5n2kfra8p0\\localcache\\local-packages\\python310\\site-packages (from trio~=0.17->selenium) (3.3)\n",
      "Requirement already satisfied: outcome in c:\\users\\alexf\\appdata\\local\\packages\\pythonsoftwarefoundation.python.3.10_qbz5n2kfra8p0\\localcache\\local-packages\\python310\\site-packages (from trio~=0.17->selenium) (1.1.0)\n",
      "Requirement already satisfied: sniffio in c:\\users\\alexf\\appdata\\local\\packages\\pythonsoftwarefoundation.python.3.10_qbz5n2kfra8p0\\localcache\\local-packages\\python310\\site-packages (from trio~=0.17->selenium) (1.2.0)\n",
      "Requirement already satisfied: cffi>=1.14 in c:\\users\\alexf\\appdata\\local\\packages\\pythonsoftwarefoundation.python.3.10_qbz5n2kfra8p0\\localcache\\local-packages\\python310\\site-packages (from trio~=0.17->selenium) (1.15.0)\n",
      "Requirement already satisfied: wsproto>=0.14 in c:\\users\\alexf\\appdata\\local\\packages\\pythonsoftwarefoundation.python.3.10_qbz5n2kfra8p0\\localcache\\local-packages\\python310\\site-packages (from trio-websocket~=0.9->selenium) (1.1.0)\n",
      "Requirement already satisfied: PySocks!=1.5.7,<2.0,>=1.5.6 in c:\\users\\alexf\\appdata\\local\\packages\\pythonsoftwarefoundation.python.3.10_qbz5n2kfra8p0\\localcache\\local-packages\\python310\\site-packages (from urllib3[socks]<3,>=1.26->selenium) (1.7.1)\n",
      "Requirement already satisfied: pycparser in c:\\users\\alexf\\appdata\\local\\packages\\pythonsoftwarefoundation.python.3.10_qbz5n2kfra8p0\\localcache\\local-packages\\python310\\site-packages (from cffi>=1.14->trio~=0.17->selenium) (2.21)\n",
      "Requirement already satisfied: h11<1,>=0.9.0 in c:\\users\\alexf\\appdata\\local\\packages\\pythonsoftwarefoundation.python.3.10_qbz5n2kfra8p0\\localcache\\local-packages\\python310\\site-packages (from wsproto>=0.14->trio-websocket~=0.9->selenium) (0.13.0)\n"
     ]
    },
    {
     "name": "stderr",
     "output_type": "stream",
     "text": [
      "\n",
      "[notice] A new release of pip is available: 23.3.1 -> 24.0\n",
      "[notice] To update, run: C:\\Users\\alexf\\AppData\\Local\\Microsoft\\WindowsApps\\PythonSoftwareFoundation.Python.3.10_qbz5n2kfra8p0\\python.exe -m pip install --upgrade pip\n"
     ]
    },
    {
     "name": "stdout",
     "output_type": "stream",
     "text": [
      "Requirement already satisfied: webdriver-manager in c:\\users\\alexf\\appdata\\local\\packages\\pythonsoftwarefoundation.python.3.10_qbz5n2kfra8p0\\localcache\\local-packages\\python310\\site-packages (4.0.1)\n",
      "Requirement already satisfied: requests in c:\\users\\alexf\\appdata\\local\\packages\\pythonsoftwarefoundation.python.3.10_qbz5n2kfra8p0\\localcache\\local-packages\\python310\\site-packages (from webdriver-manager) (2.28.1)\n",
      "Requirement already satisfied: python-dotenv in c:\\users\\alexf\\appdata\\local\\packages\\pythonsoftwarefoundation.python.3.10_qbz5n2kfra8p0\\localcache\\local-packages\\python310\\site-packages (from webdriver-manager) (1.0.1)\n",
      "Requirement already satisfied: packaging in c:\\users\\alexf\\appdata\\local\\packages\\pythonsoftwarefoundation.python.3.10_qbz5n2kfra8p0\\localcache\\local-packages\\python310\\site-packages (from webdriver-manager) (21.3)\n",
      "Requirement already satisfied: pyparsing!=3.0.5,>=2.0.2 in c:\\users\\alexf\\appdata\\local\\packages\\pythonsoftwarefoundation.python.3.10_qbz5n2kfra8p0\\localcache\\local-packages\\python310\\site-packages (from packaging->webdriver-manager) (3.0.9)\n",
      "Requirement already satisfied: charset-normalizer<3,>=2 in c:\\users\\alexf\\appdata\\local\\packages\\pythonsoftwarefoundation.python.3.10_qbz5n2kfra8p0\\localcache\\local-packages\\python310\\site-packages (from requests->webdriver-manager) (2.1.1)\n",
      "Requirement already satisfied: idna<4,>=2.5 in c:\\users\\alexf\\appdata\\local\\packages\\pythonsoftwarefoundation.python.3.10_qbz5n2kfra8p0\\localcache\\local-packages\\python310\\site-packages (from requests->webdriver-manager) (3.3)\n",
      "Requirement already satisfied: urllib3<1.27,>=1.21.1 in c:\\users\\alexf\\appdata\\local\\packages\\pythonsoftwarefoundation.python.3.10_qbz5n2kfra8p0\\localcache\\local-packages\\python310\\site-packages (from requests->webdriver-manager) (1.26.9)\n",
      "Requirement already satisfied: certifi>=2017.4.17 in c:\\users\\alexf\\appdata\\local\\packages\\pythonsoftwarefoundation.python.3.10_qbz5n2kfra8p0\\localcache\\local-packages\\python310\\site-packages (from requests->webdriver-manager) (2021.10.8)\n"
     ]
    },
    {
     "name": "stderr",
     "output_type": "stream",
     "text": [
      "\n",
      "[notice] A new release of pip is available: 23.3.1 -> 24.0\n",
      "[notice] To update, run: C:\\Users\\alexf\\AppData\\Local\\Microsoft\\WindowsApps\\PythonSoftwareFoundation.Python.3.10_qbz5n2kfra8p0\\python.exe -m pip install --upgrade pip\n"
     ]
    }
   ],
   "source": [
    "!pip install chromium-browser\n",
    "!pip install chromium-chromedriver\n",
    "!pip install --upgrade selenium\n",
    "!pip install webdriver-manager\n",
    "#!pip install os usar para puxar a data de hj"
   ]
  },
  {
   "cell_type": "code",
   "execution_count": 1,
   "metadata": {},
   "outputs": [],
   "source": [
    "from selenium import webdriver\n",
    "from selenium.webdriver.common.by import By\n",
    "from time import sleep\n",
    "import pandas as pd\n",
    "from selenium.webdriver.common.keys import Keys\n",
    "from webdriver_manager.chrome import ChromeDriverManager\n",
    "from selenium.webdriver.chrome.service import Service"
   ]
  },
  {
   "cell_type": "code",
   "execution_count": 2,
   "metadata": {},
   "outputs": [],
   "source": [
    "# Automatiza a instalação do webdriver.\n",
    "\n",
    "servico = Service(ChromeDriverManager().install())\n",
    "#nav = webdriver.Chrome(service=servico)   "
   ]
  },
  {
   "cell_type": "code",
   "execution_count": 3,
   "metadata": {},
   "outputs": [],
   "source": [
    "class newbot:\n",
    "    def __init__(self):\n",
    "        options = webdriver.ChromeOptions()\n",
    "        self.driver = webdriver.Chrome(options=options, service=servico)\n",
    "\n",
    "    def driver(self):\n",
    "        options = webdriver.ChromeOptions()\n",
    "        driver = webdriver.Chrome(options=options)\n",
    "\n",
    "    def diario_escolar_login(self):\n",
    "        print(\"preencha os campos com seu login, senha e o capchat na pagina do diario que acabou de abrir. \\nNAO CLICK EM ENTRAR\")          \n",
    "        site = 'https://dedmais.educacao.mg.gov.br/'\n",
    "        self.driver.get(site)                                                                                                       \n",
    "        ja = input(\"digite  's'  ao terminar:\\n ('x' para fechar)\\n \")\n",
    "        if ja == \"s\":\n",
    "            self.driver.find_element(by=By.XPATH, value='/html/body/div[1]/div/div/div[1]/div[3]/div[3]/div/div[2]/div/form/div[4]/button[2]').click()                #click em entrar\n",
    "            self.driver.implicitly_wait(5)    \n",
    "        elif ja == \"x\":\n",
    "            self.driver.close()\n",
    "        else:\n",
    "            bott = newbot()\n",
    "            bott.diario_escolar_login()"
   ]
  },
  {
   "cell_type": "code",
   "execution_count": 4,
   "metadata": {},
   "outputs": [
    {
     "name": "stdout",
     "output_type": "stream",
     "text": [
      "preencha os campos com seu login, senha e o capchat na pagina do diario que acabou de abrir. \n",
      "NAO CLICK EM ENTRAR\n"
     ]
    }
   ],
   "source": [
    "bot = newbot()\n",
    "bot.diario_escolar_login()\n",
    "# https://chromedriver.chromium.org/downloads (124.0.6367.61)"
   ]
  },
  {
   "cell_type": "code",
   "execution_count": 51,
   "metadata": {},
   "outputs": [],
   "source": [
    "cards_turmas = bot.driver.find_elements(by=By.CLASS_NAME, value=\"v-card-text\") "
   ]
  },
  {
   "cell_type": "code",
   "execution_count": 52,
   "metadata": {},
   "outputs": [],
   "source": [
    "global df_nomes_matriculas\n",
    "df_nomes_matricula = pd.DataFrame(columns=['Matricula','Aluno'])"
   ]
  },
  {
   "cell_type": "code",
   "execution_count": 53,
   "metadata": {},
   "outputs": [],
   "source": [
    "def wait():\n",
    "    sleep(1)\n",
    "    bot.driver.implicitly_wait(5)"
   ]
  },
  {
   "cell_type": "code",
   "execution_count": null,
   "metadata": {},
   "outputs": [],
   "source": []
  },
  {
   "cell_type": "code",
   "execution_count": 60,
   "metadata": {},
   "outputs": [
    {
     "name": "stdout",
     "output_type": "stream",
     "text": [
      "1º_EM_REG_1 1779646\n",
      "1º_EM_REG_1\n"
     ]
    },
    {
     "ename": "IndexError",
     "evalue": "list index out of range",
     "output_type": "error",
     "traceback": [
      "\u001b[1;31m---------------------------------------------------------------------------\u001b[0m",
      "\u001b[1;31mIndexError\u001b[0m                                Traceback (most recent call last)",
      "Input \u001b[1;32mIn [60]\u001b[0m, in \u001b[0;36m<cell line: 2>\u001b[1;34m()\u001b[0m\n\u001b[0;32m     20\u001b[0m cards_filtros \u001b[38;5;241m=\u001b[39m bot\u001b[38;5;241m.\u001b[39mdriver\u001b[38;5;241m.\u001b[39mfind_elements(by\u001b[38;5;241m=\u001b[39mBy\u001b[38;5;241m.\u001b[39mCLASS_NAME, value\u001b[38;5;241m=\u001b[39m\u001b[38;5;124m\"\u001b[39m\u001b[38;5;124mtext-truncate\u001b[39m\u001b[38;5;124m\"\u001b[39m) \u001b[38;5;66;03m# encontra filtros\u001b[39;00m\n\u001b[0;32m     21\u001b[0m wait()\n\u001b[1;32m---> 22\u001b[0m \u001b[43mcards_filtros\u001b[49m\u001b[43m[\u001b[49m\u001b[38;5;241;43m1\u001b[39;49m\u001b[43m]\u001b[49m\u001b[38;5;241m.\u001b[39mclick()                                                          \u001b[38;5;66;03m# click nos filtros recomendados 'Aulas pendentes' e 'Aulas lecionadas'\u001b[39;00m\n\u001b[0;32m     23\u001b[0m cards_filtros[\u001b[38;5;241m2\u001b[39m]\u001b[38;5;241m.\u001b[39mclick()\n\u001b[0;32m     24\u001b[0m wait()\n",
      "\u001b[1;31mIndexError\u001b[0m: list index out of range"
     ]
    }
   ],
   "source": [
    "                                            # limitando lista de cards buscado para teste, apos termino trocar 2 por 'len(cards_turmas)' \n",
    "for i in range(2): \n",
    "    cards_turmas = bot.driver.find_elements(by=By.CLASS_NAME, value=\"v-card-text\") \n",
    "    nome_turma = cards_turmas[i].text.split(\"\\n\")[1]                                  # Nome da turma \n",
    "    nome_turma = nome_turma.replace(\" \",\"_\")\n",
    "    nome_turma = nome_turma.split(\"_(2024)_-_\")[0]\n",
    "\n",
    "    id_turma = cards_turmas[i].text.split(\"\\n\")[1]                                  # id da turma \n",
    "    id_turma = id_turma.replace(\" \",\"_\")\n",
    "    id_turma = id_turma.split(\"_(2024)_-_\")[1]\n",
    "    print(nome_turma, id_turma)\n",
    "    \n",
    "    cards_turmas[i].click()\n",
    "    wait()\n",
    "    botao = bot.driver.find_elements(by=By.CLASS_NAME, value=\"v-btn\")                 # encontra botoes\n",
    "    botao[4].click()                                                                  # click no botao 4 'aulas'\n",
    "    wait()\n",
    "    cards_filtros = bot.driver.find_elements(by=By.CLASS_NAME, value=\"text-truncate\") # encontra filtros\n",
    "    wait()\n",
    "    cards_filtros[1].click()                                                          # click nos filtros recomendados 'Aulas pendentes' e 'Aulas lecionadas'\n",
    "    cards_filtros[2].click()\n",
    "    wait()\n",
    "\n",
    "    cards_aulas = bot.driver.find_elements(by=By.CLASS_NAME, value=\"text-blue\")       #encontra card de aulas\n",
    "    cards_aulas[-2].click()\n",
    "    wait()\n",
    "\n",
    "    cards_alunos = bot.driver.find_elements(by=By.TAG_NAME, value=\"tr\")               #encontra a lista de alunos\n",
    "    wait()\n",
    "    lista_nome_matricula = []\n",
    "    wait()\n",
    "    for ii in range(len(cards_alunos)):\n",
    "\n",
    "        \"~~~~ talvez precise de um try: aqui para fugir do problema de aulas nao lancadas na turma ou um if para quando o find_elementS retornar uma lista vazia ~~~~\"\n",
    "\n",
    "        list_card = cards_alunos[ii].text.split(\"\\n\")\n",
    "        list_card.pop()\n",
    "        lista_nome_matricula.append(list_card)\n",
    "        \n",
    "        \"\"\"globals()[f\"{nome_turma}\"] = \n",
    "        df_nomes_matricula.loc[len(df_nomes_matricula)] = lista_nome_matricula\n",
    "        globals()[f\"{nome_turma}\"] = \n",
    "        wait()\"\"\"\n",
    "    \n",
    "    lista_nome_matricula.pop(0)\n",
    "    print(lista_nome_matricula)\n",
    "    globals()[f\"{nome_turma}\"] = lista_nome_matricula\n",
    "    \n",
    "\n",
    "    try:\n",
    "        botao = bot.driver.find_elements(by=By.CLASS_NAME, value=\"v-btn\")                 # encontra botoes\n",
    "        botao[0].click()                                                                  # click no botao 0 'voltar'\n",
    "        wait()\n",
    "        botao = bot.driver.find_elements(by=By.CLASS_NAME, value=\"v-btn\")\n",
    "        botao[0].click() \n",
    "        wait()\n",
    "        botao = bot.driver.find_elements(by=By.CLASS_NAME, value=\"v-btn\")\n",
    "        botao[0].click() \n",
    "        wait()\n",
    "    \n",
    "    except:\n",
    "        continue\n",
    "\n",
    "\n",
    "\n",
    "\n",
    "\n",
    "\n",
    "    \n",
    "\n",
    "\n",
    "\n",
    "\n",
    "    \n",
    "    \n"
   ]
  },
  {
   "cell_type": "code",
   "execution_count": 78,
   "metadata": {},
   "outputs": [
    {
     "name": "stdout",
     "output_type": "stream",
     "text": [
      "0 Voltar\n",
      "1 \n",
      "2 \n",
      "3 Salvar Descrição\n",
      "4 \n",
      "5 \n",
      "6 \n",
      "7 \n",
      "8 \n",
      "9 \n",
      "10 \n",
      "11 \n",
      "12 \n",
      "13 \n",
      "14 \n",
      "15 \n",
      "16 \n",
      "17 \n",
      "18 \n",
      "19 \n",
      "20 \n",
      "21 \n",
      "22 \n",
      "23 \n",
      "24 \n",
      "25 \n",
      "26 \n",
      "27 \n",
      "28 \n",
      "29 \n",
      "30 \n",
      "31 \n",
      "32 \n",
      "33 \n",
      "34 \n",
      "35 \n",
      "36 \n",
      "37 Salvar\n",
      "38 Fechar\n",
      "Bimestre\n",
      "39 Trocar Escola\n"
     ]
    }
   ],
   "source": [
    "\"\"\"botao = bot.driver.find_elements(by=By.CLASS_NAME, value=\"v-btn\")\n",
    "for i in range(len(botao)):\n",
    "    print(i,botao[i].text)\"\"\""
   ]
  },
  {
   "cell_type": "code",
   "execution_count": 83,
   "metadata": {},
   "outputs": [
    {
     "ename": "SyntaxError",
     "evalue": "invalid decimal literal (3042147123.py, line 1)",
     "output_type": "error",
     "traceback": [
      "\u001b[1;36m  Input \u001b[1;32mIn [83]\u001b[1;36m\u001b[0m\n\u001b[1;33m    print(1º_EM_REG_1_(2024))\u001b[0m\n\u001b[1;37m          ^\u001b[0m\n\u001b[1;31mSyntaxError\u001b[0m\u001b[1;31m:\u001b[0m invalid decimal literal\n"
     ]
    }
   ],
   "source": []
  },
  {
   "cell_type": "code",
   "execution_count": null,
   "metadata": {},
   "outputs": [],
   "source": [
    "#cards_turmas = bot.driver.find_elements(by=By.CLASS_NAME, value=\"v-card-text\") \n",
    "#nome_turma = cards_turmas[i].text.split(\"\\n\")[1]                             # Nome da turma e ID da turma"
   ]
  },
  {
   "cell_type": "code",
   "execution_count": 8,
   "metadata": {},
   "outputs": [
    {
     "data": {
      "text/plain": [
       "'1º ano\\n1º EM REG 1 (2024) - 1779646\\nAvenida Delvito Alves Da Silva, 888\\nFísica\\nMANHÃ'"
      ]
     },
     "execution_count": 8,
     "metadata": {},
     "output_type": "execute_result"
    }
   ],
   "source": [
    "#cards_turmas[0].text\n"
   ]
  },
  {
   "cell_type": "code",
   "execution_count": 9,
   "metadata": {},
   "outputs": [],
   "source": [
    "#cards_turmas[0].click()"
   ]
  },
  {
   "cell_type": "code",
   "execution_count": 10,
   "metadata": {},
   "outputs": [],
   "source": [
    "#botao = bot.driver.find_elements(by=By.CLASS_NAME, value=\"v-btn\") "
   ]
  },
  {
   "cell_type": "code",
   "execution_count": 11,
   "metadata": {},
   "outputs": [
    {
     "name": "stdout",
     "output_type": "stream",
     "text": [
      "0 Voltar\n",
      "1 \n",
      "2 \n",
      "3 \n",
      "4 \n",
      "5 Fechar\n",
      "Bimestre\n",
      "6 Trocar Escola\n"
     ]
    }
   ],
   "source": [
    "#for i in range(len(botao)):\n",
    "#    print(i,botao[i].text)"
   ]
  },
  {
   "cell_type": "code",
   "execution_count": 12,
   "metadata": {},
   "outputs": [],
   "source": [
    "#botao[4].click()"
   ]
  },
  {
   "cell_type": "code",
   "execution_count": 20,
   "metadata": {},
   "outputs": [],
   "source": [
    "#cards_filtros = bot.driver.find_elements(by=By.CLASS_NAME, value=\"text-truncate\")"
   ]
  },
  {
   "cell_type": "code",
   "execution_count": 21,
   "metadata": {},
   "outputs": [
    {
     "name": "stdout",
     "output_type": "stream",
     "text": [
      "0 1º EM REG 1 (2024) - Física - 1779646 - Manhã - Avenida Delvito Alves Da Silva, 888\n",
      "1 Aulas pendentes\n",
      "2 Aulas lecionadas\n",
      "3 Aulas futuras\n"
     ]
    }
   ],
   "source": [
    "#for i in range(len(cards_filtros)):\n",
    "#    print(i,cards_filtros[i].text)"
   ]
  },
  {
   "cell_type": "code",
   "execution_count": 22,
   "metadata": {},
   "outputs": [],
   "source": [
    "#cards_filtros[1].click()\n",
    "#cards_filtros[2].click()"
   ]
  },
  {
   "cell_type": "code",
   "execution_count": 52,
   "metadata": {},
   "outputs": [],
   "source": [
    "#cards_aulas = bot.driver.find_elements(by=By.CLASS_NAME, value=\"text-blue\")"
   ]
  },
  {
   "cell_type": "code",
   "execution_count": 53,
   "metadata": {},
   "outputs": [],
   "source": [
    "#for i in range(len(cards_aulas)):\n",
    "#    print(i,cards_aulas[i].text)"
   ]
  },
  {
   "cell_type": "code",
   "execution_count": 24,
   "metadata": {},
   "outputs": [],
   "source": [
    "#cards_aulas[-2].click()\n"
   ]
  },
  {
   "cell_type": "code",
   "execution_count": 54,
   "metadata": {},
   "outputs": [],
   "source": [
    "#cards_alunos = bot.driver.find_elements(by=By.TAG_NAME, value=\"tr\")"
   ]
  },
  {
   "cell_type": "code",
   "execution_count": 57,
   "metadata": {},
   "outputs": [
    {
     "data": {
      "text/plain": [
       "'7446475\\nALANA DE SOUZA BRITO\\n02'"
      ]
     },
     "execution_count": 57,
     "metadata": {},
     "output_type": "execute_result"
    }
   ],
   "source": [
    "cards_alunos[1].text"
   ]
  },
  {
   "cell_type": "code",
   "execution_count": 26,
   "metadata": {},
   "outputs": [
    {
     "name": "stdout",
     "output_type": "stream",
     "text": [
      "0 Total de faltas Aula 1\n",
      "1 7446475\n",
      "ALANA DE SOUZA BRITO\n",
      "02\n",
      "2 10245592\n",
      "ANA BEATRIZ FERREIRA DA SILVA\n",
      "0\n",
      "3 7558931\n",
      "ANA CECILIA BARBOSA DE SOUSA\n",
      "01\n",
      "4 10675616\n",
      "ANA JULYA RAMOS DA SILVA\n",
      "02\n",
      "5 7575561\n",
      "ANNA CLARA ALVES OLIVEIRA\n",
      "03\n",
      "6 7593130\n",
      "ANTHONY LUCAS OLIVEIRA DOS REIS\n",
      "04\n",
      "7 7537123\n",
      "ANTONY FILLIPI BARBOSA DA SILVA\n",
      "08\n",
      "8 8075137\n",
      "ARTHUR FELIPE FARIA BOLSONI BALDI\n",
      "01\n",
      "9 7576610\n",
      "BRENDA VICTÓRIA DE JESUS ROCHA\n",
      "0\n",
      "10 7592803\n",
      "CAMILA SOUSA DE ALMEIDA\n",
      "01\n",
      "11 7614248\n",
      "EDUARDO MARTINS BORGES\n",
      "04\n",
      "12 7444030\n",
      "FELIPE CARDOSO DOS SANTOS\n",
      "03\n",
      "13 7574580\n",
      "GILMAR PIRES MARTINS JUNIOR\n",
      "02\n",
      "14 7577024\n",
      "GUSTAVO HENRIQUE NUNES DA FONSECA\n",
      "03\n",
      "15 7534191\n",
      "ISABELLA SOUZA SILVA\n",
      "03\n",
      "16 10653653\n",
      "JOÃO AUGUSTO TEODORO DA SILVA\n",
      "01\n",
      "17 7569167\n",
      "JOÃO PEDRO FERNANDES BARBOSA\n",
      "01\n",
      "18 7568991\n",
      "KAMILLY EVELY SILVA PIRES\n",
      "01\n",
      "19 7566665\n",
      "KAMYLLE VITÓRIA ALVES MACIEL\n",
      "0\n",
      "20 7559019\n",
      "LAÍS DOMINGUES DE SOUSA\n",
      "01\n",
      "21 7421472\n",
      "LAUANE ALVES DE JESUS TEIXEIRA\n",
      "01\n",
      "22 7598950\n",
      "LAURA GABRIELLY FERNANDES SIMÕES\n",
      "02\n",
      "23 7578144\n",
      "LUÍS HENRICK BRAGANÇA FERREIRA\n",
      "03\n",
      "24 7120726\n",
      "LUIZ ANTÔNIO FERREIRA LIMA\n",
      "01\n",
      "25 7559186\n",
      "MAÍRA DOMINGUES DE SOUSA\n",
      "01\n",
      "26 7466235\n",
      "MARCELO DE MELO OLIVEIRA\n",
      "03\n",
      "27 10400879\n",
      "MARIA FERNANDA MÁXIMA SOUSA REIS\n",
      "04\n",
      "28 8075081\n",
      "MARIANA RODRIGUES HORACIO\n",
      "0\n",
      "29 9280258\n",
      "MATEUS GONTIJO PIRES\n",
      "02\n",
      "30 7551399\n",
      "MIGUEL MÁXIMO BOAVENTURA TORRES\n",
      "01\n",
      "31 7552757\n",
      "NATHALIA MARIA ROCHA SOARES\n",
      "03\n",
      "32 7582755\n",
      "RAÍSSA ANTUNES DOS SANTOS\n",
      "03\n",
      "33 9710888\n",
      "VICTOR ANDERSON ARAUJO SILVA\n",
      "03\n"
     ]
    }
   ],
   "source": [
    "for i in range(len(cards_alunos)):\n",
    "    print(i,cards_alunos[i].text)"
   ]
  },
  {
   "cell_type": "code",
   "execution_count": 27,
   "metadata": {},
   "outputs": [
    {
     "data": {
      "text/plain": [
       "'7446475\\nALANA DE SOUZA BRITO\\n02'"
      ]
     },
     "execution_count": 27,
     "metadata": {},
     "output_type": "execute_result"
    }
   ],
   "source": [
    "cards_alunos[1].text"
   ]
  },
  {
   "cell_type": "code",
   "execution_count": 28,
   "metadata": {},
   "outputs": [],
   "source": [
    "#list_card = cards_alunos[1].text.split(\"\\n\")"
   ]
  },
  {
   "cell_type": "code",
   "execution_count": 29,
   "metadata": {},
   "outputs": [],
   "source": [
    "#list_card =[]"
   ]
  },
  {
   "cell_type": "code",
   "execution_count": 30,
   "metadata": {},
   "outputs": [],
   "source": [
    "#df_cards = pd.DataFrame(columns=['Matricula','Aluno'])\n"
   ]
  },
  {
   "cell_type": "code",
   "execution_count": 31,
   "metadata": {},
   "outputs": [],
   "source": [
    "\"\"\"lista_alunos = []\n",
    "for i in range(len(cards_alunos)):\n",
    "    list_card = cards_alunos[i].text.split(\"\\n\")\n",
    "    list_card.pop()\n",
    "    lista_alunos.append(list_card)\"\"\"\n"
   ]
  },
  {
   "cell_type": "code",
   "execution_count": 32,
   "metadata": {},
   "outputs": [
    {
     "data": {
      "text/plain": [
       "[[],\n",
       " ['7446475', 'ALANA DE SOUZA BRITO'],\n",
       " ['10245592', 'ANA BEATRIZ FERREIRA DA SILVA'],\n",
       " ['7558931', 'ANA CECILIA BARBOSA DE SOUSA'],\n",
       " ['10675616', 'ANA JULYA RAMOS DA SILVA'],\n",
       " ['7575561', 'ANNA CLARA ALVES OLIVEIRA'],\n",
       " ['7593130', 'ANTHONY LUCAS OLIVEIRA DOS REIS'],\n",
       " ['7537123', 'ANTONY FILLIPI BARBOSA DA SILVA'],\n",
       " ['8075137', 'ARTHUR FELIPE FARIA BOLSONI BALDI'],\n",
       " ['7576610', 'BRENDA VICTÓRIA DE JESUS ROCHA'],\n",
       " ['7592803', 'CAMILA SOUSA DE ALMEIDA'],\n",
       " ['7614248', 'EDUARDO MARTINS BORGES'],\n",
       " ['7444030', 'FELIPE CARDOSO DOS SANTOS'],\n",
       " ['7574580', 'GILMAR PIRES MARTINS JUNIOR'],\n",
       " ['7577024', 'GUSTAVO HENRIQUE NUNES DA FONSECA'],\n",
       " ['7534191', 'ISABELLA SOUZA SILVA'],\n",
       " ['10653653', 'JOÃO AUGUSTO TEODORO DA SILVA'],\n",
       " ['7569167', 'JOÃO PEDRO FERNANDES BARBOSA'],\n",
       " ['7568991', 'KAMILLY EVELY SILVA PIRES'],\n",
       " ['7566665', 'KAMYLLE VITÓRIA ALVES MACIEL'],\n",
       " ['7559019', 'LAÍS DOMINGUES DE SOUSA'],\n",
       " ['7421472', 'LAUANE ALVES DE JESUS TEIXEIRA'],\n",
       " ['7598950', 'LAURA GABRIELLY FERNANDES SIMÕES'],\n",
       " ['7578144', 'LUÍS HENRICK BRAGANÇA FERREIRA'],\n",
       " ['7120726', 'LUIZ ANTÔNIO FERREIRA LIMA'],\n",
       " ['7559186', 'MAÍRA DOMINGUES DE SOUSA'],\n",
       " ['7466235', 'MARCELO DE MELO OLIVEIRA'],\n",
       " ['10400879', 'MARIA FERNANDA MÁXIMA SOUSA REIS'],\n",
       " ['8075081', 'MARIANA RODRIGUES HORACIO'],\n",
       " ['9280258', 'MATEUS GONTIJO PIRES'],\n",
       " ['7551399', 'MIGUEL MÁXIMO BOAVENTURA TORRES'],\n",
       " ['7552757', 'NATHALIA MARIA ROCHA SOARES'],\n",
       " ['7582755', 'RAÍSSA ANTUNES DOS SANTOS'],\n",
       " ['9710888', 'VICTOR ANDERSON ARAUJO SILVA']]"
      ]
     },
     "execution_count": 32,
     "metadata": {},
     "output_type": "execute_result"
    }
   ],
   "source": [
    "lista_alunos"
   ]
  },
  {
   "cell_type": "code",
   "execution_count": 33,
   "metadata": {},
   "outputs": [
    {
     "data": {
      "text/plain": [
       "[]"
      ]
     },
     "execution_count": 33,
     "metadata": {},
     "output_type": "execute_result"
    }
   ],
   "source": [
    "\"\"\"lista_alunos.pop(0)"
   ]
  },
  {
   "cell_type": "code",
   "execution_count": 34,
   "metadata": {},
   "outputs": [
    {
     "data": {
      "text/plain": [
       "[['7446475', 'ALANA DE SOUZA BRITO'],\n",
       " ['10245592', 'ANA BEATRIZ FERREIRA DA SILVA'],\n",
       " ['7558931', 'ANA CECILIA BARBOSA DE SOUSA'],\n",
       " ['10675616', 'ANA JULYA RAMOS DA SILVA'],\n",
       " ['7575561', 'ANNA CLARA ALVES OLIVEIRA'],\n",
       " ['7593130', 'ANTHONY LUCAS OLIVEIRA DOS REIS'],\n",
       " ['7537123', 'ANTONY FILLIPI BARBOSA DA SILVA'],\n",
       " ['8075137', 'ARTHUR FELIPE FARIA BOLSONI BALDI'],\n",
       " ['7576610', 'BRENDA VICTÓRIA DE JESUS ROCHA'],\n",
       " ['7592803', 'CAMILA SOUSA DE ALMEIDA'],\n",
       " ['7614248', 'EDUARDO MARTINS BORGES'],\n",
       " ['7444030', 'FELIPE CARDOSO DOS SANTOS'],\n",
       " ['7574580', 'GILMAR PIRES MARTINS JUNIOR'],\n",
       " ['7577024', 'GUSTAVO HENRIQUE NUNES DA FONSECA'],\n",
       " ['7534191', 'ISABELLA SOUZA SILVA'],\n",
       " ['10653653', 'JOÃO AUGUSTO TEODORO DA SILVA'],\n",
       " ['7569167', 'JOÃO PEDRO FERNANDES BARBOSA'],\n",
       " ['7568991', 'KAMILLY EVELY SILVA PIRES'],\n",
       " ['7566665', 'KAMYLLE VITÓRIA ALVES MACIEL'],\n",
       " ['7559019', 'LAÍS DOMINGUES DE SOUSA'],\n",
       " ['7421472', 'LAUANE ALVES DE JESUS TEIXEIRA'],\n",
       " ['7598950', 'LAURA GABRIELLY FERNANDES SIMÕES'],\n",
       " ['7578144', 'LUÍS HENRICK BRAGANÇA FERREIRA'],\n",
       " ['7120726', 'LUIZ ANTÔNIO FERREIRA LIMA'],\n",
       " ['7559186', 'MAÍRA DOMINGUES DE SOUSA'],\n",
       " ['7466235', 'MARCELO DE MELO OLIVEIRA'],\n",
       " ['10400879', 'MARIA FERNANDA MÁXIMA SOUSA REIS'],\n",
       " ['8075081', 'MARIANA RODRIGUES HORACIO'],\n",
       " ['9280258', 'MATEUS GONTIJO PIRES'],\n",
       " ['7551399', 'MIGUEL MÁXIMO BOAVENTURA TORRES'],\n",
       " ['7552757', 'NATHALIA MARIA ROCHA SOARES'],\n",
       " ['7582755', 'RAÍSSA ANTUNES DOS SANTOS'],\n",
       " ['9710888', 'VICTOR ANDERSON ARAUJO SILVA']]"
      ]
     },
     "execution_count": 34,
     "metadata": {},
     "output_type": "execute_result"
    }
   ],
   "source": [
    "\"\"\"lista_alunos\"\"\""
   ]
  },
  {
   "cell_type": "code",
   "execution_count": null,
   "metadata": {},
   "outputs": [],
   "source": [
    "falta apenas jogar a lista de alunos no df "
   ]
  }
 ],
 "metadata": {
  "kernelspec": {
   "display_name": "Python 3",
   "language": "python",
   "name": "python3"
  },
  "language_info": {
   "codemirror_mode": {
    "name": "ipython",
    "version": 3
   },
   "file_extension": ".py",
   "mimetype": "text/x-python",
   "name": "python",
   "nbconvert_exporter": "python",
   "pygments_lexer": "ipython3",
   "version": "3.10.11"
  }
 },
 "nbformat": 4,
 "nbformat_minor": 2
}
